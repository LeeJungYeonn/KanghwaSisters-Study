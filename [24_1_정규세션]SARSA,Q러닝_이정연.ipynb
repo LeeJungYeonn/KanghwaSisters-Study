{
  "nbformat": 4,
  "nbformat_minor": 0,
  "metadata": {
    "colab": {
      "provenance": []
    },
    "kernelspec": {
      "name": "python3",
      "display_name": "Python 3"
    },
    "language_info": {
      "name": "python"
    }
  },
  "cells": [
    {
      "cell_type": "code",
      "execution_count": null,
      "metadata": {
        "id": "je92DmlvEJ1-"
      },
      "outputs": [],
      "source": [
        "# defaultdict() : key 값 비워두고 value 먼저 채워둘 수 있음 -> 이후 value 값 큐함수로 채워짐\n",
        "# state 표현을 str으로 -> key 값에 넣음\n",
        "# agent 안에 q_table 있음을 이해"
      ]
    },
    {
      "cell_type": "markdown",
      "source": [
        "#Import"
      ],
      "metadata": {
        "id": "Im2v1gKCGMM9"
      }
    },
    {
      "cell_type": "code",
      "source": [
        "import os\n",
        "import time\n",
        "import numpy as np\n",
        "import pandas as pd\n",
        "from typing import Tuple\n",
        "import random\n",
        "from collections import defaultdict\n",
        "import matplotlib.pyplot as plt"
      ],
      "metadata": {
        "id": "LP9lbLPxGLiG"
      },
      "execution_count": null,
      "outputs": []
    },
    {
      "cell_type": "code",
      "source": [
        "from google.colab import drive\n",
        "drive.mount('/content/drive')"
      ],
      "metadata": {
        "colab": {
          "base_uri": "https://localhost:8080/"
        },
        "id": "Uzy6-aogGbfT",
        "outputId": "62088ff8-6143-4c2b-e3ff-a32eb34b120e"
      },
      "execution_count": null,
      "outputs": [
        {
          "output_type": "stream",
          "name": "stdout",
          "text": [
            "Drive already mounted at /content/drive; to attempt to forcibly remount, call drive.mount(\"/content/drive\", force_remount=True).\n"
          ]
        }
      ]
    },
    {
      "cell_type": "code",
      "source": [
        "os.chdir('/content/drive/MyDrive')"
      ],
      "metadata": {
        "id": "50_VHULZGll1"
      },
      "execution_count": null,
      "outputs": []
    },
    {
      "cell_type": "code",
      "source": [
        "!python GridWorldEnvironment2.py"
      ],
      "metadata": {
        "id": "we2PshMBGulq"
      },
      "execution_count": null,
      "outputs": []
    },
    {
      "cell_type": "code",
      "source": [
        "from GridWorldEnvironment2 import GridWorldEnvironment"
      ],
      "metadata": {
        "id": "101hrhyUHQAz"
      },
      "execution_count": null,
      "outputs": []
    },
    {
      "cell_type": "markdown",
      "source": [
        "#04 SARSA"
      ],
      "metadata": {
        "id": "FNLI1ypXHaoc"
      }
    },
    {
      "cell_type": "markdown",
      "source": [
        "## Agent_SA"
      ],
      "metadata": {
        "id": "7QTQtOqWHdtB"
      }
    },
    {
      "cell_type": "code",
      "source": [
        "class SARSAAgent:\n",
        "    def __init__(self, action_space):\n",
        "        # 행동에 관한 parameter\n",
        "        self.action_space = action_space\n",
        "        self.num_actions = len(action_space)\n",
        "\n",
        "        # 학습에 관련된 parameter\n",
        "        self.step_size = 0.01\n",
        "        self.discount_factor = 0.9\n",
        "        self.epsilon = 1.0\n",
        "        self.epsilon_decay = 0.999\n",
        "        self.epsilon_min = 0.01\n",
        "\n",
        "        # 0을 초깃값으로 하는 큐함수 테이블 생성\n",
        "        self.q_table = defaultdict(lambda : np.zeros(self.num_actions).tolist()) # lambda와 apply 함수\n",
        "\n",
        "    def update_q_table(self, state, action_idx, reward, next_state, next_action_idx):\n",
        "        if self.epsilon > self.epsilon_min:\n",
        "            self.epsilon *= self.epsilon_decay # 탐험을 점점 끝내기 위함\n",
        "\n",
        "        # idx로 사용하기 위해 (n,n) 좌표로 표현된 state를 문자열로 만든다.\n",
        "        state, next_state = str(state), str(next_state)\n",
        "\n",
        "        # 시간차 제어로 q_table을 업데이트한다.\n",
        "        current_q = self.q_table[state][action_idx] # (딕셔너리 인덱싱 해보기)\n",
        "        next_q = self.q_table[next_state][next_action_idx]\n",
        "        td = reward + self.discount_factor * next_q - current_q # td : time difference 시간차\n",
        "        new_q = current_q + self.step_size * td\n",
        "        self.q_table[state][action_idx] = new_q\n",
        "\n",
        "    def get_action(self, state):\n",
        "        '''\n",
        "        입실론 탐욕 정책을 통해 행동을 반환한다.\n",
        "        '''\n",
        "        # 0을 초깃값으로 하는 큐함수 테이블 생성\n",
        "        if np.random.rand() < self.epsilon:\n",
        "            # 무작위 행동 수행\n",
        "            action_idx = np.random.choice(range(self.num_actions))\n",
        "        else:\n",
        "            # 큐함수에 따른 행동\n",
        "            state = str(state)\n",
        "            q_list = self.q_table[state]\n",
        "            action_idx = self.argmax(q_list)\n",
        "\n",
        "        return action_idx\n",
        "\n",
        "    def argmax(self, q_list):\n",
        "        '''\n",
        "        np.argmax를 사용하지 않고 메소드를 정의하여 사용하는 이유:\n",
        "        Q-table에 값이 같은 action이 여러 개 있다면,\n",
        "        그 중에서 랜덤으로 선택해야 하기 때문이다.\n",
        "        '''\n",
        "        max_value = np.amax(q_list)\n",
        "        max_indices = np.where(q_list == max_value)[0]\n",
        "        return np.random.choice(max_indices)"
      ],
      "metadata": {
        "id": "YDWimHBzHcsw"
      },
      "execution_count": null,
      "outputs": []
    },
    {
      "cell_type": "markdown",
      "source": [
        "## main_SA"
      ],
      "metadata": {
        "id": "1uf6z_G8LH6A"
      }
    },
    {
      "cell_type": "code",
      "source": [
        "# init value\n",
        "env = GridWorldEnvironment(start_point=(0,0), end_point=(4,4), gridworld_size=(5,5))\n",
        "\n",
        "agent = SARSAAgent(env.action_space)\n",
        "\n",
        "EPISODES = 1000\n",
        "RENDER_PROCESS = False\n",
        "RENDER_END = False\n",
        "total_moves = []"
      ],
      "metadata": {
        "id": "1m-YpeUaLJ58"
      },
      "execution_count": null,
      "outputs": []
    },
    {
      "cell_type": "code",
      "source": [
        "# train code\n",
        "\n",
        "for episode in range(EPISODES):\n",
        "    # 게임 환경을 초기화\n",
        "    state = env.reset()\n",
        "    move_cnt = 0\n",
        "    # 현재 상태에서 행동을 선택한다.\n",
        "    action_idx = agent.get_action(state)\n",
        "\n",
        "    done = False\n",
        "\n",
        "    while not done:\n",
        "        if RENDER_PROCESS:\n",
        "            env.render() # 이동을 출력하기\n",
        "\n",
        "        # 취한 행동에 대한 next_state, reward, done을 환경이 제공한다.\n",
        "        next_state, reward, done = env.step(action_idx)\n",
        "\n",
        "        # 다음 상태에서 행동을 선택한다.\n",
        "        next_action_idx = agent.get_action(next_state)\n",
        "\n",
        "        # 큐함수를 업데이트한다.\n",
        "        agent.update_q_table(state, action_idx, reward, next_state, next_action_idx)\n",
        "\n",
        "        state = next_state\n",
        "        action_idx = next_action_idx\n",
        "        move_cnt += 1\n",
        "\n",
        "    total_moves.append(move_cnt)\n",
        "\n",
        "    if (episode+1) % 100 == 0:\n",
        "        print(f\"[Episode] : {episode+1:>4}/{EPISODES} __ [Num of Moves mean]:{np.mean(total_moves[episode-99]):>5.1f} __ [Epsilon]: {agent.epsilon:.3f}\")\n",
        "\n",
        "    if RENDER_END:\n",
        "        env.render()"
      ],
      "metadata": {
        "colab": {
          "base_uri": "https://localhost:8080/"
        },
        "id": "xH7lmGg1Mf02",
        "outputId": "afebf5f7-d84e-4a78-d1ff-abf01baf04f3"
      },
      "execution_count": null,
      "outputs": [
        {
          "output_type": "stream",
          "name": "stdout",
          "text": [
            "[Episode] :  100/1000 __ [Num of Moves mean]: 57.0 __ [Epsilon]: 0.185\n",
            "[Episode] :  200/1000 __ [Num of Moves mean]: 16.0 __ [Epsilon]: 0.073\n",
            "[Episode] :  300/1000 __ [Num of Moves mean]:  8.0 __ [Epsilon]: 0.031\n",
            "[Episode] :  400/1000 __ [Num of Moves mean]: 10.0 __ [Epsilon]: 0.014\n",
            "[Episode] :  500/1000 __ [Num of Moves mean]:  8.0 __ [Epsilon]: 0.010\n",
            "[Episode] :  600/1000 __ [Num of Moves mean]:  8.0 __ [Epsilon]: 0.010\n",
            "[Episode] :  700/1000 __ [Num of Moves mean]:  8.0 __ [Epsilon]: 0.010\n",
            "[Episode] :  800/1000 __ [Num of Moves mean]:  8.0 __ [Epsilon]: 0.010\n",
            "[Episode] :  900/1000 __ [Num of Moves mean]:  8.0 __ [Epsilon]: 0.010\n",
            "[Episode] : 1000/1000 __ [Num of Moves mean]:  8.0 __ [Epsilon]: 0.010\n"
          ]
        }
      ]
    },
    {
      "cell_type": "code",
      "source": [
        "# 마지막 학습 상황을 재현한다.\n",
        "env.render()"
      ],
      "metadata": {
        "colab": {
          "base_uri": "https://localhost:8080/"
        },
        "id": "8JOO_wXlOJAR",
        "outputId": "dda071ba-7402-47c2-cb15-6824ff2216b5"
      },
      "execution_count": null,
      "outputs": [
        {
          "output_type": "stream",
          "name": "stdout",
          "text": [
            "S . . . . \n",
            "X X . . . \n",
            ". X X X . \n",
            ". . . X X \n",
            ". . . . A \n",
            "\n"
          ]
        }
      ]
    },
    {
      "cell_type": "code",
      "source": [
        "# 1000 에피소드에서 에이전트의 이동 횟수를 시각화\n",
        "plt.plot(total_moves)\n",
        "plt.ylabel(\"move_count\")\n",
        "plt.xlabel(\"episodes\")\n",
        "plt.title(\"Num of Moves\")\n",
        "\n",
        "plt.show()"
      ],
      "metadata": {
        "colab": {
          "base_uri": "https://localhost:8080/",
          "height": 472
        },
        "id": "aepTV3nbOtG1",
        "outputId": "bc197c80-152f-44d9-bc11-6ec4942eeca8"
      },
      "execution_count": null,
      "outputs": [
        {
          "output_type": "display_data",
          "data": {
            "text/plain": [
              "<Figure size 640x480 with 1 Axes>"
            ],
            "image/png": "[encoded data removed]"
          },
          "metadata": {}
        }
      ]
    },
    {
      "cell_type": "markdown",
      "source": [
        "# 05 Q-Learning"
      ],
      "metadata": {
        "id": "-SDphzdJPD3f"
      }
    },
    {
      "cell_type": "markdown",
      "source": [
        "## Agent_QL"
      ],
      "metadata": {
        "id": "16YWqoyPPFs9"
      }
    },
    {
      "cell_type": "code",
      "source": [
        "class QlearningAgent:\n",
        "    def __init__(self, action_space):\n",
        "        # 행동에 관한 parameter\n",
        "        self.action_space = action_space\n",
        "        self.num_actions = len(action_space)\n",
        "\n",
        "        # 학습에 관련된 parameter\n",
        "        self.step_size = 0.01\n",
        "        self.discount_factor = 0.9\n",
        "        self.epsilon = 1.0\n",
        "        self.epsilon_decay = 0.999\n",
        "        self.epsilon_min = 0.01\n",
        "\n",
        "        # 0을 초깃값으로 하는 큐함수 테이블 생성\n",
        "        self.q_table = defaultdict(lambda: np.zeros(self.num_actions).tolist())\n",
        "\n",
        "    def update_q_table(self, state, action_idx, reward, next_state):\n",
        "        if self.epsilon > self.epsilon_min:\n",
        "            self.epsilon *= self.epsilon_decay\n",
        "\n",
        "        # idx로 사용하기 위해 (n,n) 좌표로 표현된 state를 문자열로 만든다.\n",
        "        state, next_state = str(state), str(next_state)\n",
        "\n",
        "        q_1 = self.q_table[state][action_idx]\n",
        "\n",
        "        # 벨만 최적 방정식을 사용한 큐함수 업데이트\n",
        "        q_2 = reward + self.discount_factor * max(self.q_table[next_state])\n",
        "        self.q_table[state][action_idx] += self.step_size * (q_2 - q_1)\n",
        "\n",
        "    def get_action(self, state):\n",
        "        '''\n",
        "        입실론 탐욕 정책을 통해 행동을 반환한다.\n",
        "        '''\n",
        "        # 0을 초깃값으로 하는 큐함수 테이블 생성\n",
        "        if np.random.rand() < self.epsilon:\n",
        "            # 무작위 행동 수행\n",
        "            action_idx = np.random.choice(range(self.num_actions))\n",
        "        else:\n",
        "            # 큐함수에 따른 행동\n",
        "            state = str(state)\n",
        "            q_list = self.q_table[state]\n",
        "            action_idx = self.argmax(q_list)\n",
        "\n",
        "        return action_idx\n",
        "\n",
        "    def argmax(self, q_list):\n",
        "        '''\n",
        "        np.argmax를 사용하지 않고 별도의 메소드를 사용하는 이유\n",
        "        q_table에 값이 같은 action이 여러 개 있다면,\n",
        "        그 중에서 랜덤으로 선택해야 하기 때문이다.\n",
        "        '''\n",
        "        max_value = np.amax(q_list)\n",
        "        max_indices = np.where(q_list == max_value)[0]\n",
        "\n",
        "        return random.choice(max_indices)"
      ],
      "metadata": {
        "id": "BtSsAgqePAV-"
      },
      "execution_count": null,
      "outputs": []
    },
    {
      "cell_type": "markdown",
      "source": [
        "##main_QL"
      ],
      "metadata": {
        "id": "i240_mEWpYjs"
      }
    },
    {
      "cell_type": "code",
      "source": [
        "# init value\n",
        "env = GridWorldEnvironment(start_point=(0,0), end_point=(4,4), gridworld_size=(5,5))\n",
        "\n",
        "agent = QlearningAgent(env.action_space)\n",
        "\n",
        "EPISODES = 1000\n",
        "RENDER_PROCESS = False\n",
        "RENDER_END = False\n",
        "total_moves = []"
      ],
      "metadata": {
        "id": "3x4_lfbdpaKN"
      },
      "execution_count": null,
      "outputs": []
    },
    {
      "cell_type": "code",
      "source": [
        "# train code\n",
        "\n",
        "for episode in range(EPISODES):\n",
        "    # 게임 환경을 초기화\n",
        "    state = env.reset()\n",
        "    move_cnt = 0\n",
        "\n",
        "    done = False\n",
        "\n",
        "    while not done:\n",
        "        if RENDER_PROCESS:\n",
        "            env.render() # 이동을 출력하기\n",
        "\n",
        "        # 현재 상태에 대한 행동 선택\n",
        "        action_idx = agent.get_action(state)\n",
        "        # 취한 행동에 대한 next_state, reward, done을 환경이 제공한다.\n",
        "        next_state, reward, done = env.step(action_idx)\n",
        "\n",
        "        # 큐함수를 업데이트한다.\n",
        "        agent.update_q_table(state, action_idx, reward, next_state)\n",
        "\n",
        "        state = next_state\n",
        "        move_cnt += 1\n",
        "\n",
        "    total_moves.append(move_cnt)\n",
        "\n",
        "    if (episode+1) % 100 == 0:\n",
        "        print(f\"[Episode] : {episode+1:>4}/{EPISODES} __ [Num of Moves mean] : {np.mean(total_moves[episode+1-100]):>5.1f} __ [Epsilon] : {agent.epsilon:.3f}\")\n",
        "\n",
        "    if RENDER_END:\n",
        "        env.render()\n"
      ],
      "metadata": {
        "colab": {
          "base_uri": "https://localhost:8080/"
        },
        "id": "i-IBgOYIpyH-",
        "outputId": "d52a3769-aa52-4690-aae8-4c22146374dd"
      },
      "execution_count": null,
      "outputs": [
        {
          "output_type": "stream",
          "name": "stdout",
          "text": [
            "[Episode] :  100/1000 __ [Num of Moves mean] :  64.0 __ [Epsilon] : 0.193\n",
            "[Episode] :  200/1000 __ [Num of Moves mean] :  15.0 __ [Epsilon] : 0.078\n",
            "[Episode] :  300/1000 __ [Num of Moves mean] :  12.0 __ [Epsilon] : 0.033\n",
            "[Episode] :  400/1000 __ [Num of Moves mean] :   8.0 __ [Epsilon] : 0.015\n",
            "[Episode] :  500/1000 __ [Num of Moves mean] :   8.0 __ [Epsilon] : 0.010\n",
            "[Episode] :  600/1000 __ [Num of Moves mean] :   8.0 __ [Epsilon] : 0.010\n",
            "[Episode] :  700/1000 __ [Num of Moves mean] :   8.0 __ [Epsilon] : 0.010\n",
            "[Episode] :  800/1000 __ [Num of Moves mean] :   8.0 __ [Epsilon] : 0.010\n",
            "[Episode] :  900/1000 __ [Num of Moves mean] :   8.0 __ [Epsilon] : 0.010\n",
            "[Episode] : 1000/1000 __ [Num of Moves mean] :   8.0 __ [Epsilon] : 0.010\n"
          ]
        }
      ]
    },
    {
      "cell_type": "code",
      "source": [
        "# 마지막 학습 상황을 재현한다.\n",
        "env.render()"
      ],
      "metadata": {
        "colab": {
          "base_uri": "https://localhost:8080/"
        },
        "id": "abgI4iIQrlgQ",
        "outputId": "ecbe009c-7d00-482a-e89e-257809f1f9d6"
      },
      "execution_count": null,
      "outputs": [
        {
          "output_type": "stream",
          "name": "stdout",
          "text": [
            "S X . . . \n",
            ". X X . . \n",
            ". . X . . \n",
            ". . X X X \n",
            ". . . . A \n",
            "\n"
          ]
        }
      ]
    },
    {
      "cell_type": "code",
      "source": [
        "# 1000 에피소드에서 에이전트의 이동 횟수를 시각화\n",
        "plt.plot(total_moves)\n",
        "plt.ylabel('move_count')\n",
        "plt.xlabel('episodes')\n",
        "plt.title('Num of Moves')\n",
        "plt.show()"
      ],
      "metadata": {
        "colab": {
          "base_uri": "https://localhost:8080/",
          "height": 472
        },
        "id": "cfpIMEQMrqC6",
        "outputId": "cccedf87-3a74-452a-d3b4-489769e3200c"
      },
      "execution_count": null,
      "outputs": [
        {
          "output_type": "display_data",
          "data": {
            "text/plain": [
              "<Figure size 640x480 with 1 Axes>"
            ],
            "image/png": "[encoded data removed]"
          },
          "metadata": {}
        }
      ]
    }
  ]
}