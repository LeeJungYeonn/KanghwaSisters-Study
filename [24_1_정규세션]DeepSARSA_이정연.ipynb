{
  "nbformat": 4,
  "nbformat_minor": 0,
  "metadata": {
    "colab": {
      "provenance": []
    },
    "kernelspec": {
      "name": "python3",
      "display_name": "Python 3"
    },
    "language_info": {
      "name": "python"
    }
  },
  "cells": [
    {
      "cell_type": "markdown",
      "source": [
        "\\# 메소드 별 input/output 확인하기"
      ],
      "metadata": {
        "id": "arrn8mvVSIg_"
      }
    },
    {
      "cell_type": "markdown",
      "source": [
        "#Import"
      ],
      "metadata": {
        "id": "av6SrlgbuAOE"
      }
    },
    {
      "cell_type": "code",
      "execution_count": null,
      "metadata": {
        "id": "4qhTijGkSHOp"
      },
      "outputs": [],
      "source": [
        "import os\n",
        "import time\n",
        "import numpy as np\n",
        "import pandas as pd\n",
        "from typing import Tuple\n",
        "import random\n",
        "import matplotlib.pyplot as plt\n",
        "\n",
        "import torch\n",
        "import torch.nn as nn\n",
        "import torch.nn.functional as F"
      ]
    },
    {
      "cell_type": "code",
      "source": [
        "from google.colab import drive\n",
        "drive.mount('/content/drive')"
      ],
      "metadata": {
        "colab": {
          "base_uri": "https://localhost:8080/"
        },
        "id": "AF48syxWuRBi",
        "outputId": "7677efd3-61a1-4325-b54d-cc8eb4afe129"
      },
      "execution_count": null,
      "outputs": [
        {
          "output_type": "stream",
          "name": "stdout",
          "text": [
            "Mounted at /content/drive\n"
          ]
        }
      ]
    },
    {
      "cell_type": "markdown",
      "source": [
        "# load env"
      ],
      "metadata": {
        "id": "D1H6-hr5uYgL"
      }
    },
    {
      "cell_type": "code",
      "source": [
        "import os\n",
        "os.chdir('/content/drive/MyDrive')"
      ],
      "metadata": {
        "id": "XtIQFd5uuaLy"
      },
      "execution_count": null,
      "outputs": []
    },
    {
      "cell_type": "code",
      "source": [
        "! python GridWorldEnvironment3.py"
      ],
      "metadata": {
        "id": "Tdfd7JHjvCC0"
      },
      "execution_count": null,
      "outputs": []
    },
    {
      "cell_type": "code",
      "source": [
        "from GridWorldEnvironment3 import GridWorldEnvironment"
      ],
      "metadata": {
        "id": "5QdWNtQhvGE4"
      },
      "execution_count": null,
      "outputs": []
    },
    {
      "cell_type": "markdown",
      "source": [
        "## DeepSARSA"
      ],
      "metadata": {
        "id": "N-wnAWeVvLEq"
      }
    },
    {
      "cell_type": "code",
      "source": [
        "class DeepSARSA(nn.Module):\n",
        "    def __init__(self, state_size, action_size):\n",
        "        super().__init__()\n",
        "        self.fc1 = nn.Linear(state_size, 30)\n",
        "        self.fc2 = nn.Linear(30,30)\n",
        "        self.fc3 = nn.Linear(30, action_size)\n",
        "\n",
        "    def forward(self, x):\n",
        "        x = self.fc1(x)\n",
        "        x = self.fc2(x)\n",
        "        x = self.fc3(x) # fully connected layers 통과하며 forward pass 연산 진행\n",
        "        return x"
      ],
      "metadata": {
        "id": "EDTGCeJtvNKX"
      },
      "execution_count": null,
      "outputs": []
    },
    {
      "cell_type": "markdown",
      "source": [
        "##Agent_DS"
      ],
      "metadata": {
        "id": "F-rcLY4uv76q"
      }
    },
    {
      "cell_type": "code",
      "source": [
        "class DeepSARSAAgent:\n",
        "    def __init__(self, state_size, action_space):\n",
        "        # 행동에 관한 파라미터\n",
        "        self.action_space = action_space\n",
        "        self.num_actions = len(action_space)\n",
        "\n",
        "        # 딥살사 하이퍼파라미터\n",
        "        self.step_size = 0.01\n",
        "        self.discount_factor = 0.9\n",
        "        self.epsilon = 1.0\n",
        "        self.epsilon_decay = 0.999\n",
        "        self.epsilon_min = 0.01\n",
        "        self.learning_rate = 0.001 # 가중치 업데이트에 사용\n",
        "\n",
        "        # 신경망\n",
        "        self.model = DeepSARSA(state_size, self.num_actions)\n",
        "        self.optimizer = torch.optim.Adam(self.model.parameters(), lr=self.learning_rate, weight_decay=1e-3)\n",
        "        self.loss = nn.MSELoss()\n",
        "\n",
        "    def get_action(self, state):\n",
        "\n",
        "        self.model.eval()\n",
        "        state = torch.tensor(state, dtype=torch.float32)\n",
        "\n",
        "        if np.random.rand() <= self.epsilon:\n",
        "            return random.randrange(self.num_actions)\n",
        "        else:\n",
        "            q_value = self.model(state)\n",
        "            return torch.argmax(q_value).item()\n",
        "\n",
        "    def train_model(self, state, action_idx, reward, next_state, next_action_idx, done):\n",
        "        if self.epsilon > self.epsilon_min:\n",
        "            self.epsilon *= self.epsilon_decay\n",
        "\n",
        "        self.model.train()\n",
        "\n",
        "        state = torch.tensor(state, dtype=torch.float32)\n",
        "        next_state = torch.tensor(next_state, dtype=torch.float32)\n",
        "\n",
        "        # 현재 state\n",
        "        y_est = self.model(state)\n",
        "        one_hot_idx = F.one_hot(torch.tensor([action_idx]), num_classes=self.num_actions)\n",
        "        pred = torch.sum(y_est * one_hot_idx, axis=1)\n",
        "\n",
        "        # next state\n",
        "        next_q = self.model(next_state)[next_action_idx]\n",
        "        target = reward + ( (1-done) * self.discount_factor * next_q ) # 에피소드 끝나면 (done=True(1)) 다음 행동 및 보상(가치) 없음\n",
        "\n",
        "        cost = self.loss(pred, target)\n",
        "\n",
        "        self.optimizer.zero_grad()\n",
        "        cost.backward()\n",
        "        self.optimizer.step()"
      ],
      "metadata": {
        "id": "41Ln1lFWv3PF"
      },
      "execution_count": null,
      "outputs": []
    },
    {
      "cell_type": "markdown",
      "source": [
        "## main_DS"
      ],
      "metadata": {
        "id": "UjFlj7RM2AHs"
      }
    },
    {
      "cell_type": "code",
      "source": [
        "# init value\n",
        "env = GridWorldEnvironment(start_point=(0,0), end_point=(4,4), gridworld_size=(5,5))\n",
        "\n",
        "agent = DeepSARSAAgent(env.state_len, env.action_space)\n",
        "\n",
        "EPISODES = 1000\n",
        "RENDER_PROCESS = False\n",
        "RENDER_END = False\n",
        "total_moves = []\n",
        "check_point = {}"
      ],
      "metadata": {
        "id": "BDxC8qcr2BcZ"
      },
      "execution_count": null,
      "outputs": []
    },
    {
      "cell_type": "code",
      "source": [
        "# train code\n",
        "\n",
        "for episode in range(EPISODES):\n",
        "    # 게임 환경을 초기화\n",
        "    state = env.reset()\n",
        "    move_cnt = 0\n",
        "    # 현재 상태에서 행동을 선택한다.\n",
        "    action_idx = agent.get_action(state)\n",
        "\n",
        "    done = False\n",
        "\n",
        "    while not done:\n",
        "        if RENDER_PROCESS:\n",
        "            env.render() # 이동을 출력하기\n",
        "\n",
        "        # 에이전트가 어떤 행동을 하면 그에 따른 next_state, reward, done을 환경이 제공한다.\n",
        "        next_state, reward, done = env.step(action_idx)\n",
        "\n",
        "        # 다음 상태에서 행동을 선택한다.\n",
        "        next_action_idx = agent.get_action(next_state)\n",
        "\n",
        "        # 큐함수를 업데이트한다.\n",
        "        agent.train_model(state, action_idx, reward, next_state, next_action_idx, done)\n",
        "\n",
        "        state = next_state\n",
        "        action_idx = next_action_idx\n",
        "        move_cnt += 1\n",
        "\n",
        "    total_moves.append(move_cnt)\n",
        "\n",
        "    if (episode+1) % 100 == 0:\n",
        "        print(f\"[Episode]: {episode+1:>4}/{EPISODES} __ [Num of Moves mean]:{np.mean(total_moves[-100:]):^4.1f} __ [Epsilon]: {agent.epsilon:.3f}\")\n",
        "        check_point[f'epi_{episode+1}'] = agent.model.state_dict()\n",
        "\n",
        "    if RENDER_END:\n",
        "        env.render()"
      ],
      "metadata": {
        "colab": {
          "base_uri": "https://localhost:8080/"
        },
        "id": "5CDnUvkF2d8j",
        "outputId": "43b9e32a-8f3e-47c3-858f-5b8fabcb3faf"
      },
      "execution_count": null,
      "outputs": [
        {
          "output_type": "stream",
          "name": "stdout",
          "text": [
            "[Episode]:  100/1000 __ [Num of Moves mean]:21.7 __ [Epsilon]: 0.115\n",
            "[Episode]:  200/1000 __ [Num of Moves mean]:14.6 __ [Epsilon]: 0.027\n",
            "[Episode]:  300/1000 __ [Num of Moves mean]:8.1  __ [Epsilon]: 0.012\n",
            "[Episode]:  400/1000 __ [Num of Moves mean]:8.1  __ [Epsilon]: 0.010\n",
            "[Episode]:  500/1000 __ [Num of Moves mean]:14.3 __ [Epsilon]: 0.010\n",
            "[Episode]:  600/1000 __ [Num of Moves mean]:8.3  __ [Epsilon]: 0.010\n",
            "[Episode]:  700/1000 __ [Num of Moves mean]:8.5  __ [Epsilon]: 0.010\n",
            "[Episode]:  800/1000 __ [Num of Moves mean]:9.6  __ [Epsilon]: 0.010\n",
            "[Episode]:  900/1000 __ [Num of Moves mean]:8.6  __ [Epsilon]: 0.010\n",
            "[Episode]: 1000/1000 __ [Num of Moves mean]:9.2  __ [Epsilon]: 0.010\n"
          ]
        }
      ]
    },
    {
      "cell_type": "markdown",
      "source": [
        "\n",
        "\n",
        "```\n",
        "agent.model.state_dict()\n",
        "```\n",
        "\n"
      ],
      "metadata": {
        "id": "AGYT3Kjb4KbL"
      }
    },
    {
      "cell_type": "code",
      "source": [
        "# 마지막 학습 상황 재현\n",
        "env.render()"
      ],
      "metadata": {
        "colab": {
          "base_uri": "https://localhost:8080/"
        },
        "id": "xzg5piH26K2Q",
        "outputId": "d2e755a9-46b4-4ba6-a692-322528438314"
      },
      "execution_count": null,
      "outputs": [
        {
          "output_type": "stream",
          "name": "stdout",
          "text": [
            "S . . . . \n",
            "X . . . . \n",
            "X . . . . \n",
            "X . . . . \n",
            "X X X X A \n",
            "\n"
          ]
        }
      ]
    },
    {
      "cell_type": "code",
      "source": [
        "# 1000 에피소드에서 에이전트의 이동 횟수를 시각화\n",
        "plt.plot(total_moves)\n",
        "plt.ylabel(\"move_count\")\n",
        "plt.xlabel(\"episodes\")\n",
        "plt.title(\"Num of Moves\")\n",
        "plt.show()"
      ],
      "metadata": {
        "colab": {
          "base_uri": "https://localhost:8080/",
          "height": 472
        },
        "id": "yGxM9btG6s-o",
        "outputId": "25a843fc-9681-4a90-ffcb-f064870ba94d"
      },
      "execution_count": null,
      "outputs": [
        {
          "output_type": "display_data",
          "data": {
            "text/plain": [
              "<Figure size 640x480 with 1 Axes>"
            ],
            "image/png": "[encoded data removed]"
          },
          "metadata": {}
        }
      ]
    }
  ]
}